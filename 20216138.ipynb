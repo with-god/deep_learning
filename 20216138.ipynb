{
  "nbformat": 4,
  "nbformat_minor": 0,
  "metadata": {
    "colab": {
      "name": "20216138.ipynb",
      "provenance": [],
      "collapsed_sections": [],
      "authorship_tag": "ABX9TyNVAGi6ZNjXTSVYE/jzcGNm",
      "include_colab_link": true
    },
    "kernelspec": {
      "name": "python3",
      "display_name": "Python 3"
    },
    "language_info": {
      "name": "python"
    },
    "accelerator": "TPU"
  },
  "cells": [
    {
      "cell_type": "markdown",
      "metadata": {
        "id": "view-in-github",
        "colab_type": "text"
      },
      "source": [
        "<a href=\"https://colab.research.google.com/github/with-god/deep_learning/blob/main/20216138.ipynb\" target=\"_parent\"><img src=\"https://colab.research.google.com/assets/colab-badge.svg\" alt=\"Open In Colab\"/></a>"
      ]
    },
    {
      "cell_type": "markdown",
      "source": [
        "지도 표시를 위해 Geopandas 설치"
      ],
      "metadata": {
        "id": "FHhHabK-Jtdo"
      }
    },
    {
      "cell_type": "code",
      "source": [
        "!pip install geopandas"
      ],
      "metadata": {
        "colab": {
          "base_uri": "https://localhost:8080/"
        },
        "id": "oe15q9Nx3Yo9",
        "outputId": "74cf4d35-f423-441f-96ba-84d20a03c828"
      },
      "execution_count": null,
      "outputs": [
        {
          "output_type": "stream",
          "name": "stdout",
          "text": [
            "Collecting geopandas\n",
            "  Downloading geopandas-0.10.2-py2.py3-none-any.whl (1.0 MB)\n",
            "\u001b[K     |████████████████████████████████| 1.0 MB 3.3 MB/s \n",
            "\u001b[?25hCollecting fiona>=1.8\n",
            "  Downloading Fiona-1.8.20-cp37-cp37m-manylinux1_x86_64.whl (15.4 MB)\n",
            "\u001b[K     |████████████████████████████████| 15.4 MB 96 kB/s \n",
            "\u001b[?25hRequirement already satisfied: pandas>=0.25.0 in /usr/local/lib/python3.7/dist-packages (from geopandas) (1.1.5)\n",
            "Collecting pyproj>=2.2.0\n",
            "  Downloading pyproj-3.2.1-cp37-cp37m-manylinux2010_x86_64.whl (6.3 MB)\n",
            "\u001b[K     |████████████████████████████████| 6.3 MB 39.0 MB/s \n",
            "\u001b[?25hRequirement already satisfied: shapely>=1.6 in /usr/local/lib/python3.7/dist-packages (from geopandas) (1.8.0)\n",
            "Collecting click-plugins>=1.0\n",
            "  Downloading click_plugins-1.1.1-py2.py3-none-any.whl (7.5 kB)\n",
            "Collecting munch\n",
            "  Downloading munch-2.5.0-py2.py3-none-any.whl (10 kB)\n",
            "Requirement already satisfied: setuptools in /usr/local/lib/python3.7/dist-packages (from fiona>=1.8->geopandas) (57.4.0)\n",
            "Requirement already satisfied: six>=1.7 in /usr/local/lib/python3.7/dist-packages (from fiona>=1.8->geopandas) (1.15.0)\n",
            "Collecting cligj>=0.5\n",
            "  Downloading cligj-0.7.2-py3-none-any.whl (7.1 kB)\n",
            "Requirement already satisfied: attrs>=17 in /usr/local/lib/python3.7/dist-packages (from fiona>=1.8->geopandas) (21.2.0)\n",
            "Requirement already satisfied: certifi in /usr/local/lib/python3.7/dist-packages (from fiona>=1.8->geopandas) (2021.10.8)\n",
            "Requirement already satisfied: click>=4.0 in /usr/local/lib/python3.7/dist-packages (from fiona>=1.8->geopandas) (7.1.2)\n",
            "Requirement already satisfied: numpy>=1.15.4 in /usr/local/lib/python3.7/dist-packages (from pandas>=0.25.0->geopandas) (1.19.5)\n",
            "Requirement already satisfied: python-dateutil>=2.7.3 in /usr/local/lib/python3.7/dist-packages (from pandas>=0.25.0->geopandas) (2.8.2)\n",
            "Requirement already satisfied: pytz>=2017.2 in /usr/local/lib/python3.7/dist-packages (from pandas>=0.25.0->geopandas) (2018.9)\n",
            "Installing collected packages: munch, cligj, click-plugins, pyproj, fiona, geopandas\n",
            "Successfully installed click-plugins-1.1.1 cligj-0.7.2 fiona-1.8.20 geopandas-0.10.2 munch-2.5.0 pyproj-3.2.1\n"
          ]
        }
      ]
    },
    {
      "cell_type": "markdown",
      "source": [
        "구글 드라이브 연결"
      ],
      "metadata": {
        "id": "kYYglffnJ4FL"
      }
    },
    {
      "cell_type": "code",
      "execution_count": null,
      "metadata": {
        "colab": {
          "base_uri": "https://localhost:8080/"
        },
        "id": "SbMH1mCSznod",
        "outputId": "88df4107-cddf-4568-fa3f-389d8a6907d9"
      },
      "outputs": [
        {
          "output_type": "stream",
          "name": "stdout",
          "text": [
            "Mounted at /content/drive\n"
          ]
        }
      ],
      "source": [
        "from google.colab import drive\n",
        "drive.mount('/content/drive')"
      ]
    },
    {
      "cell_type": "code",
      "source": [
        "import os\n",
        "\n",
        "import IPython\n",
        "import IPython.display\n",
        "import tensorflow as tf\n",
        "from tensorflow import keras\n",
        "from tensorflow.keras.layers.experimental import preprocessing\n",
        "from sklearn.model_selection import train_test_split\n",
        "from tensorflow.keras import layers\n",
        "from tensorflow.keras.layers.experimental import preprocessing\n",
        "import numpy as np\n",
        "import pandas as pd\n",
        "import geopandas as gpd\n",
        "from shapely.geometry import Point, Polygon, LineString\n",
        "import matplotlib as mpl\n",
        "import matplotlib.pyplot as plt\n",
        "import matplotlib.font_manager as fm\n",
        "import seaborn as sns"
      ],
      "metadata": {
        "id": "q8vdXdmh0Ac5"
      },
      "execution_count": null,
      "outputs": []
    },
    {
      "cell_type": "code",
      "source": [
        "mpl.rcParams['figure.figsize'] = (8, 6)\n",
        "mpl.rcParams['axes.grid'] = False"
      ],
      "metadata": {
        "id": "2hcNwDdLRuL2"
      },
      "execution_count": null,
      "outputs": []
    },
    {
      "cell_type": "markdown",
      "source": [
        "데이터셋 호출"
      ],
      "metadata": {
        "id": "qfL5n9GBJ_HR"
      }
    },
    {
      "cell_type": "code",
      "source": [
        "df_path = pd.read_csv('/content/drive/MyDrive/Colab_Notebooks/deep_learning_2/20211216/total.csv', encoding='utf-8')\n",
        "df_path = df_path[['ID', 'Date', 'Time', 'Status', 'Latitude', 'Longitude']]\n",
        "df_path.head()"
      ],
      "metadata": {
        "colab": {
          "base_uri": "https://localhost:8080/",
          "height": 206
        },
        "id": "w2GJlRpF0ESO",
        "outputId": "38bb250f-b68d-486a-82f8-d4f6422d0ffd"
      },
      "execution_count": null,
      "outputs": [
        {
          "output_type": "execute_result",
          "data": {
            "text/html": [
              "<div>\n",
              "<style scoped>\n",
              "    .dataframe tbody tr th:only-of-type {\n",
              "        vertical-align: middle;\n",
              "    }\n",
              "\n",
              "    .dataframe tbody tr th {\n",
              "        vertical-align: top;\n",
              "    }\n",
              "\n",
              "    .dataframe thead th {\n",
              "        text-align: right;\n",
              "    }\n",
              "</style>\n",
              "<table border=\"1\" class=\"dataframe\">\n",
              "  <thead>\n",
              "    <tr style=\"text-align: right;\">\n",
              "      <th></th>\n",
              "      <th>ID</th>\n",
              "      <th>Date</th>\n",
              "      <th>Time</th>\n",
              "      <th>Status</th>\n",
              "      <th>Latitude</th>\n",
              "      <th>Longitude</th>\n",
              "    </tr>\n",
              "  </thead>\n",
              "  <tbody>\n",
              "    <tr>\n",
              "      <th>0</th>\n",
              "      <td>AL011851</td>\n",
              "      <td>18510625</td>\n",
              "      <td>0</td>\n",
              "      <td>HU</td>\n",
              "      <td>28.0N</td>\n",
              "      <td>94.8W</td>\n",
              "    </tr>\n",
              "    <tr>\n",
              "      <th>1</th>\n",
              "      <td>AL011851</td>\n",
              "      <td>18510625</td>\n",
              "      <td>600</td>\n",
              "      <td>HU</td>\n",
              "      <td>28.0N</td>\n",
              "      <td>95.4W</td>\n",
              "    </tr>\n",
              "    <tr>\n",
              "      <th>2</th>\n",
              "      <td>AL011851</td>\n",
              "      <td>18510625</td>\n",
              "      <td>1200</td>\n",
              "      <td>HU</td>\n",
              "      <td>28.0N</td>\n",
              "      <td>96.0W</td>\n",
              "    </tr>\n",
              "    <tr>\n",
              "      <th>3</th>\n",
              "      <td>AL011851</td>\n",
              "      <td>18510625</td>\n",
              "      <td>1800</td>\n",
              "      <td>HU</td>\n",
              "      <td>28.1N</td>\n",
              "      <td>96.5W</td>\n",
              "    </tr>\n",
              "    <tr>\n",
              "      <th>4</th>\n",
              "      <td>AL011851</td>\n",
              "      <td>18510625</td>\n",
              "      <td>2100</td>\n",
              "      <td>HU</td>\n",
              "      <td>28.2N</td>\n",
              "      <td>96.8W</td>\n",
              "    </tr>\n",
              "  </tbody>\n",
              "</table>\n",
              "</div>"
            ],
            "text/plain": [
              "         ID      Date  Time Status Latitude Longitude\n",
              "0  AL011851  18510625     0     HU    28.0N     94.8W\n",
              "1  AL011851  18510625   600     HU    28.0N     95.4W\n",
              "2  AL011851  18510625  1200     HU    28.0N     96.0W\n",
              "3  AL011851  18510625  1800     HU    28.1N     96.5W\n",
              "4  AL011851  18510625  2100     HU    28.2N     96.8W"
            ]
          },
          "metadata": {},
          "execution_count": 60
        }
      ]
    },
    {
      "cell_type": "markdown",
      "source": [
        "위경도 형식 변경"
      ],
      "metadata": {
        "id": "lgAuCLRzKC7r"
      }
    },
    {
      "cell_type": "code",
      "source": [
        "df_path.Latitude = df_path.Latitude.apply(lambda x: float(x[:-1]) if x[-1] == 'N' else float(x[:-1]) * -1)\n",
        "df_path.Longitude = df_path.Longitude.apply(lambda x: float(x[:-1]) if x[-1] == 'E' else float(x[:-1]) * -1)\n",
        "df_path.head()"
      ],
      "metadata": {
        "colab": {
          "base_uri": "https://localhost:8080/",
          "height": 206
        },
        "id": "aBJtbIWV01mD",
        "outputId": "14fbb834-9aae-41f3-b39c-8cdfcea6fac8"
      },
      "execution_count": null,
      "outputs": [
        {
          "output_type": "execute_result",
          "data": {
            "text/html": [
              "<div>\n",
              "<style scoped>\n",
              "    .dataframe tbody tr th:only-of-type {\n",
              "        vertical-align: middle;\n",
              "    }\n",
              "\n",
              "    .dataframe tbody tr th {\n",
              "        vertical-align: top;\n",
              "    }\n",
              "\n",
              "    .dataframe thead th {\n",
              "        text-align: right;\n",
              "    }\n",
              "</style>\n",
              "<table border=\"1\" class=\"dataframe\">\n",
              "  <thead>\n",
              "    <tr style=\"text-align: right;\">\n",
              "      <th></th>\n",
              "      <th>ID</th>\n",
              "      <th>Date</th>\n",
              "      <th>Time</th>\n",
              "      <th>Status</th>\n",
              "      <th>Latitude</th>\n",
              "      <th>Longitude</th>\n",
              "    </tr>\n",
              "  </thead>\n",
              "  <tbody>\n",
              "    <tr>\n",
              "      <th>0</th>\n",
              "      <td>AL011851</td>\n",
              "      <td>18510625</td>\n",
              "      <td>0</td>\n",
              "      <td>HU</td>\n",
              "      <td>28.0</td>\n",
              "      <td>-94.8</td>\n",
              "    </tr>\n",
              "    <tr>\n",
              "      <th>1</th>\n",
              "      <td>AL011851</td>\n",
              "      <td>18510625</td>\n",
              "      <td>600</td>\n",
              "      <td>HU</td>\n",
              "      <td>28.0</td>\n",
              "      <td>-95.4</td>\n",
              "    </tr>\n",
              "    <tr>\n",
              "      <th>2</th>\n",
              "      <td>AL011851</td>\n",
              "      <td>18510625</td>\n",
              "      <td>1200</td>\n",
              "      <td>HU</td>\n",
              "      <td>28.0</td>\n",
              "      <td>-96.0</td>\n",
              "    </tr>\n",
              "    <tr>\n",
              "      <th>3</th>\n",
              "      <td>AL011851</td>\n",
              "      <td>18510625</td>\n",
              "      <td>1800</td>\n",
              "      <td>HU</td>\n",
              "      <td>28.1</td>\n",
              "      <td>-96.5</td>\n",
              "    </tr>\n",
              "    <tr>\n",
              "      <th>4</th>\n",
              "      <td>AL011851</td>\n",
              "      <td>18510625</td>\n",
              "      <td>2100</td>\n",
              "      <td>HU</td>\n",
              "      <td>28.2</td>\n",
              "      <td>-96.8</td>\n",
              "    </tr>\n",
              "  </tbody>\n",
              "</table>\n",
              "</div>"
            ],
            "text/plain": [
              "         ID      Date  Time Status  Latitude  Longitude\n",
              "0  AL011851  18510625     0     HU      28.0      -94.8\n",
              "1  AL011851  18510625   600     HU      28.0      -95.4\n",
              "2  AL011851  18510625  1200     HU      28.0      -96.0\n",
              "3  AL011851  18510625  1800     HU      28.1      -96.5\n",
              "4  AL011851  18510625  2100     HU      28.2      -96.8"
            ]
          },
          "metadata": {},
          "execution_count": 61
        }
      ]
    },
    {
      "cell_type": "markdown",
      "source": [
        "날짜, 시간 형식 변경"
      ],
      "metadata": {
        "id": "BLkPKYShKHrU"
      }
    },
    {
      "cell_type": "code",
      "source": [
        "df_path['DateTime'] = df_path.Date.astype(str).str.cat(df_path.Time.astype(str).str.zfill(width=4)).astype(float)\n",
        "df_path.head()"
      ],
      "metadata": {
        "colab": {
          "base_uri": "https://localhost:8080/",
          "height": 206
        },
        "id": "yGEPfzfn_f2n",
        "outputId": "0ae81204-4d08-4457-aca8-2fad6e292ed4"
      },
      "execution_count": null,
      "outputs": [
        {
          "output_type": "execute_result",
          "data": {
            "text/html": [
              "<div>\n",
              "<style scoped>\n",
              "    .dataframe tbody tr th:only-of-type {\n",
              "        vertical-align: middle;\n",
              "    }\n",
              "\n",
              "    .dataframe tbody tr th {\n",
              "        vertical-align: top;\n",
              "    }\n",
              "\n",
              "    .dataframe thead th {\n",
              "        text-align: right;\n",
              "    }\n",
              "</style>\n",
              "<table border=\"1\" class=\"dataframe\">\n",
              "  <thead>\n",
              "    <tr style=\"text-align: right;\">\n",
              "      <th></th>\n",
              "      <th>ID</th>\n",
              "      <th>Date</th>\n",
              "      <th>Time</th>\n",
              "      <th>Status</th>\n",
              "      <th>Latitude</th>\n",
              "      <th>Longitude</th>\n",
              "      <th>DateTime</th>\n",
              "    </tr>\n",
              "  </thead>\n",
              "  <tbody>\n",
              "    <tr>\n",
              "      <th>0</th>\n",
              "      <td>AL011851</td>\n",
              "      <td>18510625</td>\n",
              "      <td>0</td>\n",
              "      <td>HU</td>\n",
              "      <td>28.0</td>\n",
              "      <td>-94.8</td>\n",
              "      <td>1.851062e+11</td>\n",
              "    </tr>\n",
              "    <tr>\n",
              "      <th>1</th>\n",
              "      <td>AL011851</td>\n",
              "      <td>18510625</td>\n",
              "      <td>600</td>\n",
              "      <td>HU</td>\n",
              "      <td>28.0</td>\n",
              "      <td>-95.4</td>\n",
              "      <td>1.851063e+11</td>\n",
              "    </tr>\n",
              "    <tr>\n",
              "      <th>2</th>\n",
              "      <td>AL011851</td>\n",
              "      <td>18510625</td>\n",
              "      <td>1200</td>\n",
              "      <td>HU</td>\n",
              "      <td>28.0</td>\n",
              "      <td>-96.0</td>\n",
              "      <td>1.851063e+11</td>\n",
              "    </tr>\n",
              "    <tr>\n",
              "      <th>3</th>\n",
              "      <td>AL011851</td>\n",
              "      <td>18510625</td>\n",
              "      <td>1800</td>\n",
              "      <td>HU</td>\n",
              "      <td>28.1</td>\n",
              "      <td>-96.5</td>\n",
              "      <td>1.851063e+11</td>\n",
              "    </tr>\n",
              "    <tr>\n",
              "      <th>4</th>\n",
              "      <td>AL011851</td>\n",
              "      <td>18510625</td>\n",
              "      <td>2100</td>\n",
              "      <td>HU</td>\n",
              "      <td>28.2</td>\n",
              "      <td>-96.8</td>\n",
              "      <td>1.851063e+11</td>\n",
              "    </tr>\n",
              "  </tbody>\n",
              "</table>\n",
              "</div>"
            ],
            "text/plain": [
              "         ID      Date  Time Status  Latitude  Longitude      DateTime\n",
              "0  AL011851  18510625     0     HU      28.0      -94.8  1.851062e+11\n",
              "1  AL011851  18510625   600     HU      28.0      -95.4  1.851063e+11\n",
              "2  AL011851  18510625  1200     HU      28.0      -96.0  1.851063e+11\n",
              "3  AL011851  18510625  1800     HU      28.1      -96.5  1.851063e+11\n",
              "4  AL011851  18510625  2100     HU      28.2      -96.8  1.851063e+11"
            ]
          },
          "metadata": {},
          "execution_count": 62
        }
      ]
    },
    {
      "cell_type": "markdown",
      "source": [
        "위경도를 Geopands에서 쓸 수 있게 컬럼추가"
      ],
      "metadata": {
        "id": "vJJanwfDKOPC"
      }
    },
    {
      "cell_type": "code",
      "source": [
        "gdf_path = gpd.GeoDataFrame(df_path, \n",
        "                            geometry=gpd.points_from_xy(df_path.Longitude, df_path.Latitude), \n",
        "                            crs='epsg:4326'\n",
        "                           )\n",
        "gdf_path.head()"
      ],
      "metadata": {
        "colab": {
          "base_uri": "https://localhost:8080/",
          "height": 206
        },
        "id": "j7jAEzpd1au3",
        "outputId": "d3fb75c5-8bae-4de6-b36a-457ddf2738ea"
      },
      "execution_count": null,
      "outputs": [
        {
          "output_type": "execute_result",
          "data": {
            "text/html": [
              "<div>\n",
              "<style scoped>\n",
              "    .dataframe tbody tr th:only-of-type {\n",
              "        vertical-align: middle;\n",
              "    }\n",
              "\n",
              "    .dataframe tbody tr th {\n",
              "        vertical-align: top;\n",
              "    }\n",
              "\n",
              "    .dataframe thead th {\n",
              "        text-align: right;\n",
              "    }\n",
              "</style>\n",
              "<table border=\"1\" class=\"dataframe\">\n",
              "  <thead>\n",
              "    <tr style=\"text-align: right;\">\n",
              "      <th></th>\n",
              "      <th>ID</th>\n",
              "      <th>Date</th>\n",
              "      <th>Time</th>\n",
              "      <th>Status</th>\n",
              "      <th>Latitude</th>\n",
              "      <th>Longitude</th>\n",
              "      <th>DateTime</th>\n",
              "      <th>geometry</th>\n",
              "    </tr>\n",
              "  </thead>\n",
              "  <tbody>\n",
              "    <tr>\n",
              "      <th>0</th>\n",
              "      <td>AL011851</td>\n",
              "      <td>18510625</td>\n",
              "      <td>0</td>\n",
              "      <td>HU</td>\n",
              "      <td>28.0</td>\n",
              "      <td>-94.8</td>\n",
              "      <td>1.851062e+11</td>\n",
              "      <td>POINT (-94.80000 28.00000)</td>\n",
              "    </tr>\n",
              "    <tr>\n",
              "      <th>1</th>\n",
              "      <td>AL011851</td>\n",
              "      <td>18510625</td>\n",
              "      <td>600</td>\n",
              "      <td>HU</td>\n",
              "      <td>28.0</td>\n",
              "      <td>-95.4</td>\n",
              "      <td>1.851063e+11</td>\n",
              "      <td>POINT (-95.40000 28.00000)</td>\n",
              "    </tr>\n",
              "    <tr>\n",
              "      <th>2</th>\n",
              "      <td>AL011851</td>\n",
              "      <td>18510625</td>\n",
              "      <td>1200</td>\n",
              "      <td>HU</td>\n",
              "      <td>28.0</td>\n",
              "      <td>-96.0</td>\n",
              "      <td>1.851063e+11</td>\n",
              "      <td>POINT (-96.00000 28.00000)</td>\n",
              "    </tr>\n",
              "    <tr>\n",
              "      <th>3</th>\n",
              "      <td>AL011851</td>\n",
              "      <td>18510625</td>\n",
              "      <td>1800</td>\n",
              "      <td>HU</td>\n",
              "      <td>28.1</td>\n",
              "      <td>-96.5</td>\n",
              "      <td>1.851063e+11</td>\n",
              "      <td>POINT (-96.50000 28.10000)</td>\n",
              "    </tr>\n",
              "    <tr>\n",
              "      <th>4</th>\n",
              "      <td>AL011851</td>\n",
              "      <td>18510625</td>\n",
              "      <td>2100</td>\n",
              "      <td>HU</td>\n",
              "      <td>28.2</td>\n",
              "      <td>-96.8</td>\n",
              "      <td>1.851063e+11</td>\n",
              "      <td>POINT (-96.80000 28.20000)</td>\n",
              "    </tr>\n",
              "  </tbody>\n",
              "</table>\n",
              "</div>"
            ],
            "text/plain": [
              "         ID      Date  ...      DateTime                    geometry\n",
              "0  AL011851  18510625  ...  1.851062e+11  POINT (-94.80000 28.00000)\n",
              "1  AL011851  18510625  ...  1.851063e+11  POINT (-95.40000 28.00000)\n",
              "2  AL011851  18510625  ...  1.851063e+11  POINT (-96.00000 28.00000)\n",
              "3  AL011851  18510625  ...  1.851063e+11  POINT (-96.50000 28.10000)\n",
              "4  AL011851  18510625  ...  1.851063e+11  POINT (-96.80000 28.20000)\n",
              "\n",
              "[5 rows x 8 columns]"
            ]
          },
          "metadata": {},
          "execution_count": 64
        }
      ]
    },
    {
      "cell_type": "markdown",
      "source": [
        "위경도 값을 선으로 연결"
      ],
      "metadata": {
        "id": "pWJaYVfCKY21"
      }
    },
    {
      "cell_type": "code",
      "source": [
        "line_geometry = LineString(gdf_path['geometry'].head(30))\n",
        "df_path_line = pd.DataFrame({'name' : 'total',\n",
        "                             'geometry' : [line_geometry]}\n",
        "                           )\n",
        "\n",
        "gdf_path_line = gpd.GeoDataFrame(df_path_line, geometry=df_path_line.geometry)"
      ],
      "metadata": {
        "id": "0h-0MMuN3pwr"
      },
      "execution_count": null,
      "outputs": []
    },
    {
      "cell_type": "markdown",
      "source": [
        "아메리카 지도 위에 선으로 연결된 위경도 값을 표시"
      ],
      "metadata": {
        "id": "Zcck8a5EKde7"
      }
    },
    {
      "cell_type": "code",
      "source": [
        "world = gpd.read_file(gpd.datasets.get_path('naturalearth_lowres'))\n",
        "basemap = world.loc[world['continent'].isin(['North America', 'South America'])]\n",
        "ax = basemap.plot(figsize=(10,10), color='whitesmoke', edgecolor='black', linewidth=1)\n",
        "# ax.axis('off')\n",
        "gdf_path_line.plot(ax=ax, linewidth=3., color='blue', zorder=1)"
      ],
      "metadata": {
        "colab": {
          "base_uri": "https://localhost:8080/",
          "height": 553
        },
        "id": "HSqs9Sf03zFE",
        "outputId": "077a6482-ae07-4e2c-f567-5c814aae3597"
      },
      "execution_count": null,
      "outputs": [
        {
          "output_type": "execute_result",
          "data": {
            "text/plain": [
              "<matplotlib.axes._subplots.AxesSubplot at 0x7f03dc0ba850>"
            ]
          },
          "metadata": {},
          "execution_count": 10
        },
        {
          "output_type": "display_data",
          "data": {
            "image/png": "[encoded data removed]",
            "text/plain": [
              "<Figure size 720x720 with 1 Axes>"
            ]
          },
          "metadata": {
            "needs_background": "light"
          }
        }
      ]
    },
    {
      "cell_type": "markdown",
      "source": [
        "전체 위경도 값을 히트맵으로 표시"
      ],
      "metadata": {
        "id": "AFhf_wMnKm6g"
      }
    },
    {
      "cell_type": "code",
      "source": [
        "plt.hist2d(df_path.Longitude, df_path.Latitude, bins=(50, 50), vmax=150)\n",
        "plt.colorbar()\n",
        "plt.xlabel('Latitude')\n",
        "plt.ylabel('Longitude')\n",
        "ax = plt.gca()\n",
        "ax.axis('tight')"
      ],
      "metadata": {
        "colab": {
          "base_uri": "https://localhost:8080/",
          "height": 406
        },
        "id": "KQr_9IAPRGe3",
        "outputId": "5beed2ad-49c2-4c9e-eb62-86a32a22ab44"
      },
      "execution_count": null,
      "outputs": [
        {
          "output_type": "execute_result",
          "data": {
            "text/plain": [
              "(-359.1, 179.9, 4.2, 81.0)"
            ]
          },
          "metadata": {},
          "execution_count": 11
        },
        {
          "output_type": "display_data",
          "data": {
            "image/png": "[encoded data removed]",
            "text/plain": [
              "<Figure size 576x432 with 2 Axes>"
            ]
          },
          "metadata": {
            "needs_background": "light"
          }
        }
      ]
    },
    {
      "cell_type": "markdown",
      "source": [
        "필요없는 데이터 삭제"
      ],
      "metadata": {
        "id": "eo-hh8C2KtBa"
      }
    },
    {
      "cell_type": "code",
      "source": [
        "df_path.drop(['ID', 'Date', 'Time', 'geometry'], axis=1, inplace=True)\n",
        "df_path.head()"
      ],
      "metadata": {
        "colab": {
          "base_uri": "https://localhost:8080/",
          "height": 206
        },
        "id": "I_ZeSq67EepG",
        "outputId": "1ae84504-edcd-4957-fd53-b450df847af3"
      },
      "execution_count": null,
      "outputs": [
        {
          "output_type": "execute_result",
          "data": {
            "text/html": [
              "<div>\n",
              "<style scoped>\n",
              "    .dataframe tbody tr th:only-of-type {\n",
              "        vertical-align: middle;\n",
              "    }\n",
              "\n",
              "    .dataframe tbody tr th {\n",
              "        vertical-align: top;\n",
              "    }\n",
              "\n",
              "    .dataframe thead th {\n",
              "        text-align: right;\n",
              "    }\n",
              "</style>\n",
              "<table border=\"1\" class=\"dataframe\">\n",
              "  <thead>\n",
              "    <tr style=\"text-align: right;\">\n",
              "      <th></th>\n",
              "      <th>Status</th>\n",
              "      <th>Latitude</th>\n",
              "      <th>Longitude</th>\n",
              "      <th>DateTime</th>\n",
              "    </tr>\n",
              "  </thead>\n",
              "  <tbody>\n",
              "    <tr>\n",
              "      <th>0</th>\n",
              "      <td>HU</td>\n",
              "      <td>28.0</td>\n",
              "      <td>-94.8</td>\n",
              "      <td>1.851062e+11</td>\n",
              "    </tr>\n",
              "    <tr>\n",
              "      <th>1</th>\n",
              "      <td>HU</td>\n",
              "      <td>28.0</td>\n",
              "      <td>-95.4</td>\n",
              "      <td>1.851063e+11</td>\n",
              "    </tr>\n",
              "    <tr>\n",
              "      <th>2</th>\n",
              "      <td>HU</td>\n",
              "      <td>28.0</td>\n",
              "      <td>-96.0</td>\n",
              "      <td>1.851063e+11</td>\n",
              "    </tr>\n",
              "    <tr>\n",
              "      <th>3</th>\n",
              "      <td>HU</td>\n",
              "      <td>28.1</td>\n",
              "      <td>-96.5</td>\n",
              "      <td>1.851063e+11</td>\n",
              "    </tr>\n",
              "    <tr>\n",
              "      <th>4</th>\n",
              "      <td>HU</td>\n",
              "      <td>28.2</td>\n",
              "      <td>-96.8</td>\n",
              "      <td>1.851063e+11</td>\n",
              "    </tr>\n",
              "  </tbody>\n",
              "</table>\n",
              "</div>"
            ],
            "text/plain": [
              "  Status  Latitude  Longitude      DateTime\n",
              "0     HU      28.0      -94.8  1.851062e+11\n",
              "1     HU      28.0      -95.4  1.851063e+11\n",
              "2     HU      28.0      -96.0  1.851063e+11\n",
              "3     HU      28.1      -96.5  1.851063e+11\n",
              "4     HU      28.2      -96.8  1.851063e+11"
            ]
          },
          "metadata": {},
          "execution_count": 65
        }
      ]
    },
    {
      "cell_type": "markdown",
      "source": [
        "허리케인/태풍의 구분값 One-hot 인코딩"
      ],
      "metadata": {
        "id": "rHhEiouqKwNT"
      }
    },
    {
      "cell_type": "code",
      "source": [
        "# onehot = pd.get_dummies(data = df_path, columns = ['ID'], prefix = 'ID')\n",
        "df = pd.get_dummies(data = df_path, columns = ['Status'], prefix = 'Status')\n",
        "df.head()"
      ],
      "metadata": {
        "colab": {
          "base_uri": "https://localhost:8080/",
          "height": 224
        },
        "id": "-esaL_AU6wu8",
        "outputId": "91bd8124-7389-4f50-c6bd-c1a537c88091"
      },
      "execution_count": null,
      "outputs": [
        {
          "output_type": "execute_result",
          "data": {
            "text/html": [
              "<div>\n",
              "<style scoped>\n",
              "    .dataframe tbody tr th:only-of-type {\n",
              "        vertical-align: middle;\n",
              "    }\n",
              "\n",
              "    .dataframe tbody tr th {\n",
              "        vertical-align: top;\n",
              "    }\n",
              "\n",
              "    .dataframe thead th {\n",
              "        text-align: right;\n",
              "    }\n",
              "</style>\n",
              "<table border=\"1\" class=\"dataframe\">\n",
              "  <thead>\n",
              "    <tr style=\"text-align: right;\">\n",
              "      <th></th>\n",
              "      <th>Latitude</th>\n",
              "      <th>Longitude</th>\n",
              "      <th>DateTime</th>\n",
              "      <th>Status_ DB</th>\n",
              "      <th>Status_ ET</th>\n",
              "      <th>Status_ EX</th>\n",
              "      <th>Status_ HU</th>\n",
              "      <th>Status_ HU</th>\n",
              "      <th>Status_ LO</th>\n",
              "      <th>Status_ PT</th>\n",
              "      <th>Status_ SD</th>\n",
              "      <th>Status_ SS</th>\n",
              "      <th>Status_ ST</th>\n",
              "      <th>Status_ TD</th>\n",
              "      <th>Status_ TS</th>\n",
              "      <th>Status_ WV</th>\n",
              "    </tr>\n",
              "  </thead>\n",
              "  <tbody>\n",
              "    <tr>\n",
              "      <th>0</th>\n",
              "      <td>28.0</td>\n",
              "      <td>-94.8</td>\n",
              "      <td>1.851062e+11</td>\n",
              "      <td>0</td>\n",
              "      <td>0</td>\n",
              "      <td>0</td>\n",
              "      <td>1</td>\n",
              "      <td>0</td>\n",
              "      <td>0</td>\n",
              "      <td>0</td>\n",
              "      <td>0</td>\n",
              "      <td>0</td>\n",
              "      <td>0</td>\n",
              "      <td>0</td>\n",
              "      <td>0</td>\n",
              "      <td>0</td>\n",
              "    </tr>\n",
              "    <tr>\n",
              "      <th>1</th>\n",
              "      <td>28.0</td>\n",
              "      <td>-95.4</td>\n",
              "      <td>1.851063e+11</td>\n",
              "      <td>0</td>\n",
              "      <td>0</td>\n",
              "      <td>0</td>\n",
              "      <td>1</td>\n",
              "      <td>0</td>\n",
              "      <td>0</td>\n",
              "      <td>0</td>\n",
              "      <td>0</td>\n",
              "      <td>0</td>\n",
              "      <td>0</td>\n",
              "      <td>0</td>\n",
              "      <td>0</td>\n",
              "      <td>0</td>\n",
              "    </tr>\n",
              "    <tr>\n",
              "      <th>2</th>\n",
              "      <td>28.0</td>\n",
              "      <td>-96.0</td>\n",
              "      <td>1.851063e+11</td>\n",
              "      <td>0</td>\n",
              "      <td>0</td>\n",
              "      <td>0</td>\n",
              "      <td>1</td>\n",
              "      <td>0</td>\n",
              "      <td>0</td>\n",
              "      <td>0</td>\n",
              "      <td>0</td>\n",
              "      <td>0</td>\n",
              "      <td>0</td>\n",
              "      <td>0</td>\n",
              "      <td>0</td>\n",
              "      <td>0</td>\n",
              "    </tr>\n",
              "    <tr>\n",
              "      <th>3</th>\n",
              "      <td>28.1</td>\n",
              "      <td>-96.5</td>\n",
              "      <td>1.851063e+11</td>\n",
              "      <td>0</td>\n",
              "      <td>0</td>\n",
              "      <td>0</td>\n",
              "      <td>1</td>\n",
              "      <td>0</td>\n",
              "      <td>0</td>\n",
              "      <td>0</td>\n",
              "      <td>0</td>\n",
              "      <td>0</td>\n",
              "      <td>0</td>\n",
              "      <td>0</td>\n",
              "      <td>0</td>\n",
              "      <td>0</td>\n",
              "    </tr>\n",
              "    <tr>\n",
              "      <th>4</th>\n",
              "      <td>28.2</td>\n",
              "      <td>-96.8</td>\n",
              "      <td>1.851063e+11</td>\n",
              "      <td>0</td>\n",
              "      <td>0</td>\n",
              "      <td>0</td>\n",
              "      <td>1</td>\n",
              "      <td>0</td>\n",
              "      <td>0</td>\n",
              "      <td>0</td>\n",
              "      <td>0</td>\n",
              "      <td>0</td>\n",
              "      <td>0</td>\n",
              "      <td>0</td>\n",
              "      <td>0</td>\n",
              "      <td>0</td>\n",
              "    </tr>\n",
              "  </tbody>\n",
              "</table>\n",
              "</div>"
            ],
            "text/plain": [
              "   Latitude  Longitude      DateTime  ...  Status_ TD  Status_ TS  Status_ WV\n",
              "0      28.0      -94.8  1.851062e+11  ...           0           0           0\n",
              "1      28.0      -95.4  1.851063e+11  ...           0           0           0\n",
              "2      28.0      -96.0  1.851063e+11  ...           0           0           0\n",
              "3      28.1      -96.5  1.851063e+11  ...           0           0           0\n",
              "4      28.2      -96.8  1.851063e+11  ...           0           0           0\n",
              "\n",
              "[5 rows x 16 columns]"
            ]
          },
          "metadata": {},
          "execution_count": 66
        }
      ]
    },
    {
      "cell_type": "code",
      "source": [
        "def windowing(array, window_size):\n",
        "    X = []\n",
        "    Y = []\n",
        "\n",
        "    for i in range(len(array)-window_size*2):\n",
        "        X.append(array[i:i+window_size])\n",
        "        Y.append(array[i+window_size:i + window_size*2])\n",
        "\n",
        "    return np.asarray(X), np.asarray(Y)"
      ],
      "metadata": {
        "id": "wQ9rZ6s_QBfB"
      },
      "execution_count": null,
      "outputs": []
    },
    {
      "cell_type": "markdown",
      "source": [
        "데이터 노멀라이징, 윈도윙"
      ],
      "metadata": {
        "id": "g3-m_8wRLkqv"
      }
    },
    {
      "cell_type": "code",
      "source": [
        "df = df - np.min(df, axis=0) + 0.0001\n",
        "df = df / np.max(df, axis=0)\n",
        "\n",
        "train_data = df[:int(len(df)*0.8)]\n",
        "test_data = df[int(len(df) * 0.8):]\n",
        "\n",
        "train_X, train_Y = windowing(train_data, 4)\n",
        "test_X, test_Y = windowing(test_data, 4)"
      ],
      "metadata": {
        "id": "5CSscrYmQN5w"
      },
      "execution_count": null,
      "outputs": []
    },
    {
      "cell_type": "code",
      "source": [
        "print(\"Training X Size : \" + str(train_X.shape))\n",
        "print(\"Training Y Size : \" + str(train_Y.shape))\n",
        "print(\"Test X Size : \" + str(test_X.shape))\n",
        "print(\"Test Y Size : \" + str(test_Y.shape))"
      ],
      "metadata": {
        "colab": {
          "base_uri": "https://localhost:8080/"
        },
        "id": "Z_c2N32LQjh2",
        "outputId": "f3cc70f9-012b-4a27-ea1b-8c7543ae1b24"
      },
      "execution_count": null,
      "outputs": [
        {
          "output_type": "stream",
          "name": "stdout",
          "text": [
            "Training X Size : (60185, 4, 16)\n",
            "Training Y Size : (60185, 4, 16)\n",
            "Test X Size : (15041, 4, 16)\n",
            "Test Y Size : (15041, 4, 16)\n"
          ]
        }
      ]
    },
    {
      "cell_type": "markdown",
      "source": [
        "LSTM 학습"
      ],
      "metadata": {
        "id": "Ot7ON2mQL1Jm"
      }
    },
    {
      "cell_type": "code",
      "source": [
        "model = keras.Sequential([\n",
        "    #keras.layers.Bidirectional(keras.layers.LSTM(64, return_sequences=True)),\n",
        "    keras.layers.LSTM(64, return_sequences=True), # unit: dimensionality of the output space\n",
        "    keras.layers.Dense(32),\n",
        "    keras.layers.Dense(16),\n",
        "])\n",
        "\n",
        "model.compile(optimizer=\"adam\", metrics=[\"mae\"], loss=\"mse\") # mae: mean absolute error\n",
        "\n",
        "early_stop = keras.callbacks.EarlyStopping(monitor='val_loss', patience=10)\n",
        "\n",
        "EPOCHS = 100\n",
        "\n",
        "history = model.fit(train_X, train_Y, epochs=EPOCHS,\n",
        "                    validation_data=(test_X, test_Y), \n",
        "                    callbacks=[early_stop])"
      ],
      "metadata": {
        "colab": {
          "base_uri": "https://localhost:8080/"
        },
        "id": "gbsFfrCVQm6z",
        "outputId": "e953e8d3-81fd-48f5-8cdf-37b624aa1f80"
      },
      "execution_count": null,
      "outputs": [
        {
          "output_type": "stream",
          "name": "stdout",
          "text": [
            "Epoch 1/100\n",
            "1881/1881 [==============================] - 17s 7ms/step - loss: 0.0341 - mae: 0.0793 - val_loss: 0.0370 - val_mae: 0.0807\n",
            "Epoch 2/100\n",
            "1881/1881 [==============================] - 13s 7ms/step - loss: 0.0321 - mae: 0.0722 - val_loss: 0.0366 - val_mae: 0.0763\n",
            "Epoch 3/100\n",
            "1881/1881 [==============================] - 13s 7ms/step - loss: 0.0319 - mae: 0.0710 - val_loss: 0.0361 - val_mae: 0.0788\n",
            "Epoch 4/100\n",
            "1881/1881 [==============================] - 13s 7ms/step - loss: 0.0317 - mae: 0.0704 - val_loss: 0.0363 - val_mae: 0.0771\n",
            "Epoch 5/100\n",
            "1881/1881 [==============================] - 13s 7ms/step - loss: 0.0316 - mae: 0.0698 - val_loss: 0.0360 - val_mae: 0.0785\n",
            "Epoch 6/100\n",
            "1881/1881 [==============================] - 13s 7ms/step - loss: 0.0315 - mae: 0.0695 - val_loss: 0.0360 - val_mae: 0.0769\n",
            "Epoch 7/100\n",
            "1881/1881 [==============================] - 12s 6ms/step - loss: 0.0314 - mae: 0.0691 - val_loss: 0.0365 - val_mae: 0.0747\n",
            "Epoch 8/100\n",
            "1881/1881 [==============================] - 13s 7ms/step - loss: 0.0313 - mae: 0.0689 - val_loss: 0.0361 - val_mae: 0.0769\n",
            "Epoch 9/100\n",
            "1881/1881 [==============================] - 13s 7ms/step - loss: 0.0312 - mae: 0.0687 - val_loss: 0.0362 - val_mae: 0.0759\n",
            "Epoch 10/100\n",
            "1881/1881 [==============================] - 13s 7ms/step - loss: 0.0312 - mae: 0.0685 - val_loss: 0.0366 - val_mae: 0.0773\n",
            "Epoch 11/100\n",
            "1881/1881 [==============================] - 13s 7ms/step - loss: 0.0311 - mae: 0.0683 - val_loss: 0.0360 - val_mae: 0.0766\n",
            "Epoch 12/100\n",
            "1881/1881 [==============================] - 12s 7ms/step - loss: 0.0310 - mae: 0.0682 - val_loss: 0.0357 - val_mae: 0.0750\n",
            "Epoch 13/100\n",
            "1881/1881 [==============================] - 12s 7ms/step - loss: 0.0310 - mae: 0.0680 - val_loss: 0.0358 - val_mae: 0.0763\n",
            "Epoch 14/100\n",
            "1881/1881 [==============================] - 12s 7ms/step - loss: 0.0309 - mae: 0.0679 - val_loss: 0.0360 - val_mae: 0.0756\n",
            "Epoch 15/100\n",
            "1881/1881 [==============================] - 12s 6ms/step - loss: 0.0308 - mae: 0.0679 - val_loss: 0.0354 - val_mae: 0.0770\n",
            "Epoch 16/100\n",
            "1881/1881 [==============================] - 12s 6ms/step - loss: 0.0308 - mae: 0.0677 - val_loss: 0.0360 - val_mae: 0.0781\n",
            "Epoch 17/100\n",
            "1881/1881 [==============================] - 12s 6ms/step - loss: 0.0307 - mae: 0.0677 - val_loss: 0.0360 - val_mae: 0.0780\n",
            "Epoch 18/100\n",
            "1881/1881 [==============================] - 12s 6ms/step - loss: 0.0306 - mae: 0.0675 - val_loss: 0.0367 - val_mae: 0.0788\n",
            "Epoch 19/100\n",
            "1881/1881 [==============================] - 12s 7ms/step - loss: 0.0306 - mae: 0.0674 - val_loss: 0.0364 - val_mae: 0.0778\n",
            "Epoch 20/100\n",
            "1881/1881 [==============================] - 12s 7ms/step - loss: 0.0305 - mae: 0.0673 - val_loss: 0.0363 - val_mae: 0.0788\n",
            "Epoch 21/100\n",
            "1881/1881 [==============================] - 17s 9ms/step - loss: 0.0305 - mae: 0.0672 - val_loss: 0.0361 - val_mae: 0.0775\n",
            "Epoch 22/100\n",
            "1881/1881 [==============================] - 13s 7ms/step - loss: 0.0304 - mae: 0.0671 - val_loss: 0.0368 - val_mae: 0.0798\n",
            "Epoch 23/100\n",
            "1881/1881 [==============================] - 12s 7ms/step - loss: 0.0303 - mae: 0.0669 - val_loss: 0.0367 - val_mae: 0.0796\n",
            "Epoch 24/100\n",
            "1881/1881 [==============================] - 12s 7ms/step - loss: 0.0303 - mae: 0.0669 - val_loss: 0.0362 - val_mae: 0.0794\n",
            "Epoch 25/100\n",
            "1881/1881 [==============================] - 12s 7ms/step - loss: 0.0303 - mae: 0.0668 - val_loss: 0.0361 - val_mae: 0.0786\n"
          ]
        }
      ]
    },
    {
      "cell_type": "markdown",
      "source": [
        "학습결과"
      ],
      "metadata": {
        "id": "pxKKPaqHL_EY"
      }
    },
    {
      "cell_type": "code",
      "source": [
        "prediction = model(test_X[:200])\n",
        "label = test_Y[:200]\n",
        "\n",
        "X = prediction / np.max(prediction, axis=0)\n",
        "Y = label / np.max(label, axis=0)\n",
        "\n",
        "minval = min(np.min(X), np.min(Y))\n",
        "maxval = max(np.max(X), np.max(Y))\n",
        "\n",
        "fig = plt.figure(figsize=(8, 8))\n",
        "plt.title(\"Regression Result\")\n",
        "plt.xlabel(\"Ground Truth\")\n",
        "plt.ylabel(\"AI Predict\")\n",
        "plt.scatter(X, Y)\n",
        "plt.plot([minval, maxval], [minval, maxval], \"red\")\n",
        "fig.savefig(\"result.png\")\n",
        "\n",
        "train_history = history.history[\"loss\"]\n",
        "validation_history = history.history[\"val_loss\"]\n",
        "fig = plt.figure(figsize=(8, 8))\n",
        "plt.title(\"Loss History\")\n",
        "plt.xlabel(\"EPOCH\")\n",
        "plt.ylabel(\"LOSS Function\")\n",
        "plt.plot(train_history, \"red\")\n",
        "plt.plot(validation_history, 'blue')\n",
        "fig.savefig(\"train_history.png\")"
      ],
      "metadata": {
        "colab": {
          "base_uri": "https://localhost:8080/",
          "height": 1000
        },
        "id": "FdbK2AUBSqcO",
        "outputId": "980ce348-6dbc-49a6-8c54-637eab376125"
      },
      "execution_count": null,
      "outputs": [
        {
          "output_type": "display_data",
          "data": {
            "image/png": "[encoded data removed]",
            "text/plain": [
              "<Figure size 576x576 with 1 Axes>"
            ]
          },
          "metadata": {
            "needs_background": "light"
          }
        },
        {
          "output_type": "display_data",
          "data": {
            "image/png": "[encoded data removed]",
            "text/plain": [
              "<Figure size 576x576 with 1 Axes>"
            ]
          },
          "metadata": {
            "needs_background": "light"
          }
        }
      ]
    }
  ]
}